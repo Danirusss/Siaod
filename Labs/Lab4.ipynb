{
 "cells": [
  {
   "cell_type": "markdown",
   "id": "fifteen-sailing",
   "metadata": {},
   "source": [
    "# Лабораторная работа №4\n",
    "## Выполнил студент группы Шатковский Даниил Александрович БФИ2001"
   ]
  },
  {
   "cell_type": "markdown",
   "id": "arctic-stocks",
   "metadata": {},
   "source": [
    "Реализовать следующие структуры данных:\n",
    "  \n",
    "● <b> Стек (stack): </b>  \n",
    "Операции для стека: \n",
    "<i> инициализация, проверка на пустоту, добавление нового элемента в начало, извлечение элемента из начала;  </i>  \n",
    "  \n",
    "● <b> Дек (двусторонняя очередь, deque):  </b>  \n",
    "Операции для дека: \n",
    "<i> инициализация, проверка на пустоту, добавление нового элемента в начало, добавление нового элемента в конец, извлечение элемента из начала, извлечение элемента из конца. </i>  \n",
    "  \n",
    "<i> Разработать программу обработки данных, содержащихся в заранее подготовленном txt-файле, в соответствии с заданиями, применив указанную в задании структуру данных. Результат работы программы вывести на экран и сохранить в отдельном txt-файле. </i>"
   ]
  },
  {
   "cell_type": "code",
   "execution_count": 29,
   "id": "feccf605",
   "metadata": {},
   "outputs": [],
   "source": [
    "class Stack():\n",
    "    def __init__(self):\n",
    "        self.elements = []\n",
    "        \n",
    "    def isEmpty(self):\n",
    "        return self.elements == []\n",
    "        \n",
    "    def push(self, el):\n",
    "        self.elements.insert(0, el)\n",
    "        \n",
    "    def pop(self):\n",
    "        if (self.isEmpty()):\n",
    "            return None\n",
    "        else:\n",
    "            return self.elements.pop(0)\n",
    "        \n",
    "    def get(self):\n",
    "        if (self.isEmpty()):\n",
    "            return None\n",
    "        else:\n",
    "            return self.elements[0]\n",
    "        \n",
    "    def printStack(self):\n",
    "        for el in self.elements:\n",
    "            print(el, end=' ')\n",
    "            \n",
    "        print()"
   ]
  },
  {
   "cell_type": "code",
   "execution_count": 28,
   "id": "4913ce88",
   "metadata": {},
   "outputs": [],
   "source": [
    "class Deque():\n",
    "    def __init__(self, arr=[]):\n",
    "        self.elements = arr\n",
    "        \n",
    "    def isEmpty(self):\n",
    "        return self.elements == []\n",
    "        \n",
    "    def pushRight(self, el):\n",
    "        self.elements.append(el)\n",
    "        \n",
    "    def popRight(self):\n",
    "        if (self.isEmpty()):\n",
    "            return None\n",
    "        else:\n",
    "            return self.elements.pop()\n",
    "    \n",
    "    def pushLeft(self, el):\n",
    "        self.elements.insert(0, el)\n",
    "        \n",
    "    def popLeft(self):\n",
    "        if (self.isEmpty()):\n",
    "            return None\n",
    "        else:\n",
    "            return self.elements.pop(0)\n",
    "        \n",
    "    def isEmpty(self):\n",
    "        return self.elements == []    \n",
    "    \n",
    "    def getLeft(self):\n",
    "        if (self.isEmpty()):\n",
    "            return None\n",
    "        else:\n",
    "            return self.elements[-1]\n",
    "    \n",
    "    def getRight(self):\n",
    "        if (self.isEmpty()):\n",
    "            return None\n",
    "        else:\n",
    "            return self.elements[0]\n",
    "        \n",
    "    def printDeq(self):\n",
    "        for el in self.elements:\n",
    "            print(el, end=' ')     \n",
    "        print()"
   ]
  },
  {
   "cell_type": "markdown",
   "id": "5d7edb08",
   "metadata": {
    "scrolled": true
   },
   "source": [
    "### Задание №1\n",
    "Отсортировать строки файла, содержащие названия книг, в алфавитном порядке с использованием двух деков."
   ]
  },
  {
   "cell_type": "code",
   "execution_count": 33,
   "id": "17702ade",
   "metadata": {},
   "outputs": [
    {
     "name": "stdout",
     "output_type": "stream",
     "text": [
      " Двенадцать стульев\n",
      " Золотой теленок\n",
      " Мёртвые души\n",
      " Мастер и Маргарита \n",
      " Преступление и наказание\n",
      " Собачье сердце\n",
      " \n"
     ]
    }
   ],
   "source": [
    "filename = \"txt/vvod/task1.txt\"\n",
    "with open(filename, mode='r', encoding='utf-8') as f:\n",
    "    deq1 = Deque(arr=f.readlines())\n",
    "    deq2 = Deque(arr=[])\n",
    "    \n",
    "    f_sorted = True\n",
    "    \n",
    "    el = deq1.popLeft()\n",
    "    deq2.pushLeft(el)\n",
    "    \n",
    "    while (not deq1.isEmpty()):\n",
    "        el = deq1.popLeft()\n",
    "        if (ord(deq2.getLeft()[0]) <= ord(el[0])):\n",
    "            deq2.pushRight(el)\n",
    "                \n",
    "        else:\n",
    "            deq2.pushLeft(el)\n",
    "            f_sorted = False\n",
    "            \n",
    "        if (f_sorted == False and deq1.isEmpty()):\n",
    "            deq1, deq2 = deq2, Deque(arr=[])\n",
    "            el = deq1.popLeft()\n",
    "            deq2.pushLeft(el)\n",
    "            f_sorted = True\n",
    "\n",
    "    deq2.printDeq()\n",
    "    "
   ]
  },
  {
   "cell_type": "markdown",
   "id": "49fbd2a0",
   "metadata": {},
   "source": [
    "### Задание №2\n",
    "Дек содержит последовательность символов для шифровки сообщений. Дан текстовый файл, содержащий зашифрованное сообщение. Пользуясь деком, расшифровать текст. \n",
    "Известно, что при шифровке каждый символ сообщения заменялся следующим за ним в деке по часовой стрелке через один."
   ]
  },
  {
   "cell_type": "code",
   "execution_count": 42,
   "id": "81cab7a8",
   "metadata": {},
   "outputs": [
    {
     "name": "stdout",
     "output_type": "stream",
     "text": [
      "daniil\n"
     ]
    }
   ],
   "source": [
    "def decrypt(c_text, Decr):\n",
    "    decr_text = c_text\n",
    "    \n",
    "    for i in range(len(decr_text)):\n",
    "        encrypted = False\n",
    "        \n",
    "        while (not encrypted):\n",
    "            deq_s = Decr.popRight()\n",
    "            Decr.pushLeft(deq_s)\n",
    "            \n",
    "            if(decr_text[i] == deq_s):\n",
    "                for j in range(2):\n",
    "                    temp = Decr.popRight()\n",
    "                    Decr.pushLeft(temp)\n",
    "                    \n",
    "                decr_text[i] = temp\n",
    "                encrypted = True\n",
    "                \n",
    "    return decr_text\n",
    "\n",
    "filename = \"txt/vvod/task2.txt\"\n",
    "with open(filename, mode='r', encoding='utf-8') as f:\n",
    "    Decr = Deque([])\n",
    "    for i in range(97, 123):\n",
    "        Decr.pushRight(chr(i))\n",
    "    \n",
    "    c_text = list(f.readline())\n",
    "    decr_text = decrypt(c_text, Decr)    \n",
    "    print(\"\".join(decr_text))"
   ]
  },
  {
   "cell_type": "markdown",
   "id": "c0894f47",
   "metadata": {},
   "source": [
    "### Задание №3\n",
    "Даны три стержня и n дисков различного размера. Диски можно надевать на стержни, образуя из них башни. Перенести n дисков со стержня А на стержень С, сохранив их первоначальный порядок. При переносе дисков необходимо соблюдать следующие правила:\n",
    "- на каждом шаге со стержня на стержень переносить только один диск;\n",
    "- диск нельзя помещать на диск меньшего размера;\n",
    "- для промежуточного хранения можно использовать стержень В.\n",
    "Реализовать алгоритм, используя три стека вместо стержней А, В, С. Информация о дисках хранится в исходном файле."
   ]
  },
  {
   "cell_type": "code",
   "execution_count": 43,
   "id": "9e91a9d4",
   "metadata": {},
   "outputs": [
    {
     "name": "stdout",
     "output_type": "stream",
     "text": [
      "1 2 3 4 5 6 \n",
      "Rod A:  \n",
      "Rod B:  \n",
      "Rod C:  1 2 3 4 5 6 \n"
     ]
    }
   ],
   "source": [
    "def moveDisk(fromRod, toRod):\n",
    "    toRod.push(fromRod.pop())\n",
    "\n",
    "def ToH(height, fromRod, midRod, toRod):\n",
    "\n",
    "    if (height >= 1):\n",
    "        ToH(height - 1, fromRod, toRod, midRod)\n",
    "        moveDisk(fromRod, toRod)\n",
    "        \n",
    "        ToH(height - 1, midRod, fromRod, toRod)\n",
    "filename = \"txt/vvod/task3.txt\"\n",
    "with open(filename, mode='r', encoding='utf-8') as f:\n",
    "\n",
    "    roda = Stack()\n",
    "    \n",
    "    disks = f.readlines()\n",
    "    for i in disks:\n",
    "        roda.push(int(i))\n",
    "        \n",
    "    roda.printStack()\n",
    "    \n",
    "    rodb = Stack()\n",
    "    rodc = Stack()\n",
    "    \n",
    "    ToH(len(disks), roda, rodb, rodc)\n",
    "        \n",
    "    print(\"Rod A: \", end=' ')\n",
    "    roda.printStack()\n",
    "    \n",
    "    print(\"Rod B: \", end=' ')\n",
    "    rodb.printStack()\n",
    "    \n",
    "    print(\"Rod C: \", end=' ')\n",
    "    rodc.printStack()"
   ]
  },
  {
   "cell_type": "markdown",
   "id": "e5b0be17",
   "metadata": {},
   "source": [
    "### Задание №4\n",
    "Дан текстовый файл с программой на алгоритмическом языке. За один просмотр файла проверить баланс круглых скобок в тексте, используя стек."
   ]
  },
  {
   "cell_type": "code",
   "execution_count": 48,
   "id": "5b1df60a",
   "metadata": {},
   "outputs": [
    {
     "name": "stdout",
     "output_type": "stream",
     "text": [
      "Баланс соблюден\n"
     ]
    }
   ],
   "source": [
    "def StackBalance(pars):\n",
    "    i = 0\n",
    "    while (not pars.isEmpty()):\n",
    "        par = pars.pop()\n",
    "        if (par == ')'):\n",
    "            i = i + 1\n",
    "        else:\n",
    "            i = i - 1\n",
    "    if (i == 0):\n",
    "        return True\n",
    "    else:\n",
    "        return False\n",
    "        \n",
    "filename = \"txt/vvod/task4.txt\"\n",
    "with open(filename, mode='r', encoding='utf-8') as f:\n",
    "    pars = Stack()\n",
    "    code = f.read()\n",
    "    for i in code:\n",
    "        if (i == '(' or i == ')'):\n",
    "            pars.push(i)\n",
    "    \n",
    "    if (StackBalance(pars)):\n",
    "        print(\"Баланс соблюден\")\n",
    "    else:\n",
    "        print(\"Баланс нарушен\")"
   ]
  },
  {
   "cell_type": "markdown",
   "id": "c44cdd6b",
   "metadata": {},
   "source": [
    "### Задание №5\n",
    "Дан текстовый файл с программой на алгоритмическом языке. За один просмотр файла проверить баланс квадратных скобок в тексте, используя дек."
   ]
  },
  {
   "cell_type": "code",
   "execution_count": 49,
   "id": "36b8f400",
   "metadata": {},
   "outputs": [
    {
     "name": "stdout",
     "output_type": "stream",
     "text": [
      "Баланс соблюден\n"
     ]
    }
   ],
   "source": [
    "def DeqBalance(pars):\n",
    "    i = 0\n",
    "    while (not pars.isEmpty()):\n",
    "        par = pars.popRight()\n",
    "        \n",
    "        if (par == ']'):\n",
    "            i += 1\n",
    "        else:\n",
    "            i -= 1\n",
    "            \n",
    "    if (i == 0):\n",
    "        return True\n",
    "    else:\n",
    "        return False\n",
    "        \n",
    "filename = \"txt/vvod/task4.txt\"\n",
    "with open(filename, mode='r', encoding='utf-8') as f:\n",
    "    pars = Deque()\n",
    "    code = f.read()\n",
    "    for i in code:\n",
    "        if (i == '[' or i == ']'):\n",
    "            pars.pushRight(i)\n",
    "    if (DeqBalance(pars)):\n",
    "        print(\"Баланс соблюден\")\n",
    "    else:\n",
    "        print(\"Баланс нарушен\")"
   ]
  },
  {
   "cell_type": "markdown",
   "id": "59d13dc7",
   "metadata": {},
   "source": [
    "### Задание №6\n",
    "Дан файл из символов. Используя стек, за один просмотр файла напечатать сначала все цифры, затем все буквы, и, наконец, все остальные символы, сохраняя исходный порядок в каждой группе символов."
   ]
  },
  {
   "cell_type": "code",
   "execution_count": 59,
   "id": "297e36c2",
   "metadata": {},
   "outputs": [
    {
     "name": "stdout",
     "output_type": "stream",
     "text": [
      "2 1 2 3 4 5 6 d a n i i l ! @ @ @ \n"
     ]
    }
   ],
   "source": [
    "filename = \"txt/vvod/task6.txt\"\n",
    "with open(filename, mode='r', encoding='utf-8') as f:\n",
    "    stack = Stack()\n",
    "    strings1 = f.read()\n",
    "    strings1 = strings1[::-1]\n",
    "    for i in strings1:\n",
    "        if not ((96 < ord(i) < 124) or (47 < ord(i) < 58)):\n",
    "            stack.push(i)\n",
    "    for i in strings1:\n",
    "        if (96 < ord(i) < 124):\n",
    "            stack.push(i)\n",
    "    for i in strings1:\n",
    "        if (47 < ord(i) < 58):\n",
    "            stack.push(i)\n",
    "    stack.printStack()"
   ]
  },
  {
   "cell_type": "markdown",
   "id": "973f68bd",
   "metadata": {},
   "source": [
    "### Задание №7\n",
    "Дан файл из целых чисел. Используя дек, за один просмотр файла напечатать сначала все отрицательные числа, затем все положительные числа, сохраняя исходный порядок в каждой группе."
   ]
  },
  {
   "cell_type": "code",
   "execution_count": 63,
   "id": "c56fad66",
   "metadata": {},
   "outputs": [
    {
     "name": "stdout",
     "output_type": "stream",
     "text": [
      "-1 -2 -3 -1 3 1 2 4 \n"
     ]
    }
   ],
   "source": [
    "filename = \"txt/vvod/task7.txt\"\n",
    "with open(filename, mode='r', encoding='utf-8') as f:\n",
    "    deq = Deque(arr=[])\n",
    "    \n",
    "    strings2 = f.readlines()\n",
    "    \n",
    "    for i in strings2:\n",
    "        if (int(i) > 0):\n",
    "            deq.pushRight(int(i))\n",
    "        else:\n",
    "            print(int(i), end=' ')\n",
    "            \n",
    "    deq.printDeq()"
   ]
  },
  {
   "cell_type": "markdown",
   "id": "b9228191",
   "metadata": {},
   "source": [
    "### Задание №8\n",
    "Дан текстовый файл. Используя стек, сформировать новый текстовый файл, содержащий строки исходного файла, записанные в обратном порядке: первая строка становится последней, вторая – предпоследней и т.д."
   ]
  },
  {
   "cell_type": "code",
   "execution_count": 68,
   "id": "981fbdfe",
   "metadata": {},
   "outputs": [],
   "source": [
    "filename = \"txt/vvod/task8.txt\"\n",
    "\n",
    "with open(filename, mode='r', encoding='utf-8') as f:\n",
    "    stc = Stack()\n",
    "    \n",
    "    strings = f.readlines()\n",
    "\n",
    "    for i in strings:\n",
    "        stc.push(i)\n",
    "\n",
    "    filename_out = \"txt/vivod/task8.txt\"\n",
    "    \n",
    "    with open(filename_out, mode='w', encoding='utf-8') as f_out:\n",
    "        while (not stc.isEmpty()):\n",
    "            f_out.write(stc.pop())"
   ]
  },
  {
   "cell_type": "markdown",
   "id": "rental-jerusalem",
   "metadata": {},
   "source": [
    "### Вывод\n",
    "Научились работать со стеком и деком, а также как работать с файлами, читая и записывая файлы."
   ]
  },
  {
   "cell_type": "markdown",
   "id": "0c2b8899",
   "metadata": {},
   "source": []
  }
 ],
 "metadata": {
  "kernelspec": {
   "display_name": "Python 3 (ipykernel)",
   "language": "python",
   "name": "python3"
  },
  "language_info": {
   "codemirror_mode": {
    "name": "ipython",
    "version": 3
   },
   "file_extension": ".py",
   "mimetype": "text/x-python",
   "name": "python",
   "nbconvert_exporter": "python",
   "pygments_lexer": "ipython3",
   "version": "3.10.2"
  }
 },
 "nbformat": 4,
 "nbformat_minor": 5
}
