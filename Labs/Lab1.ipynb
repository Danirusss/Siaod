{
 "cells": [
  {
   "cell_type": "markdown",
   "id": "fifteen-sailing",
   "metadata": {},
   "source": [
    "# Лабораторная работа №1\n",
    "## Выполнил студент группы БФИ2001 Шатковский Даниил Александрович"
   ]
  },
  {
   "cell_type": "markdown",
   "id": "particular-syndicate",
   "metadata": {},
   "source": [
    "### Оглавление\n",
    "1. [Задание 1](#Задание-№1)\n",
    "2. [Задание 2](#Задание-№2)\n",
    "3. [Задание 3](#Задание-№3)\n",
    "4. [Вывод](#Вывод)"
   ]
  },
  {
   "cell_type": "markdown",
   "id": "arctic-stocks",
   "metadata": {},
   "source": [
    "## Задание №1\n",
    "<i> Вызвать функцию print() и передать туда строку Hello, World! </i>"
   ]
  },
  {
   "cell_type": "code",
   "execution_count": null,
   "id": "caring-truck",
   "metadata": {
    "scrolled": true
   },
   "outputs": [],
   "source": [
    "print(\"Hello, World!\")"
   ]
  },
  {
   "cell_type": "markdown",
   "id": "maritime-conversation",
   "metadata": {},
   "source": [
    "### Задание №2\n",
    "Написать генератор случайных матриц(многомерных), который принимает\n",
    "опциональные параметры <b>m</b>, <b>n</b>, <b>min_limit</b>, <b>max_limit</b>, где <b>m</b> и <b>n</b> указывают размер\n",
    "матрицы, а <b>min_lim</b> и <b>max_lim</b> - минимальное и максимальное значение для\n",
    "генерируемого числа."
   ]
  },
  {
   "cell_type": "code",
   "execution_count": 1,
   "id": "built-contact",
   "metadata": {},
   "outputs": [],
   "source": [
    "import random\n",
    "import time"
   ]
  },
  {
   "cell_type": "code",
   "execution_count": 139,
   "id": "alert-charm",
   "metadata": {},
   "outputs": [
    {
     "name": "stdout",
     "output_type": "stream",
     "text": [
      "1\n",
      "10\n",
      "1\n",
      "10\n"
     ]
    }
   ],
   "source": [
    "def f(m = 50, n = 50, min_limit = -250, max_limit = 1026):\n",
    "    from random import randint \n",
    "    a = [[randint(min_limit, max_limit) for j in range(m)] for i in range(n)]\n",
    "    return a\n",
    "user_m = input()\n",
    "user_n = input()\n",
    "user_min_limit = input()\n",
    "user_max_limit = input()\n",
    "user_m, user_n, user_min_limit, user_max_limit\n",
    "mas = f(int(user_m), int(user_n), int(user_min_limit), int(user_max_limit))\n"
   ]
  },
  {
   "cell_type": "markdown",
   "id": "catholic-roots",
   "metadata": {},
   "source": [
    "### Задание №3\n",
    "Реализовать методы сортировки строк числовой матрицы в соответствии с\n",
    "заданием. Оценить время работы каждого алгоритма сортировки и сравнить его со\n",
    "временем стандартной функции сортировки. Испытания проводить на сгенерированных\n",
    "матрицах."
   ]
  },
  {
   "cell_type": "code",
   "execution_count": 3,
   "id": "opposed-creature",
   "metadata": {},
   "outputs": [],
   "source": [
    "import copy"
   ]
  },
  {
   "cell_type": "code",
   "execution_count": 132,
   "id": "cleared-anniversary",
   "metadata": {},
   "outputs": [
    {
     "name": "stdout",
     "output_type": "stream",
     "text": [
      "--- 6 ms ---\n"
     ]
    }
   ],
   "source": [
    "import time\n",
    "# Сортировка выбором.\n",
    "# Берётся срез массива, в котором минимальный элемент переносят в самый левый угол,\n",
    "# после чего срез уменьшается и цикл повторяется.\n",
    "def selection_sort(a: list[int]) -> list[int]:\n",
    "    for i in range(0, len(a) - 1):\n",
    "        minim = i\n",
    "        for j in range(i + 1, len(a)):\n",
    "            if a[j] < a[minim]:\n",
    "                minim = j\n",
    "        a[i], a[minim] = a[minim], a[i]\n",
    "    return a\n",
    "\n",
    "a1 = mas.copy()\n",
    "start_time = time.time()\n",
    "# print(selection_sort(a1))\n",
    "selection_sort(a1)\n",
    "#TODO\n",
    "print(\"--- {0} ms ---\".format(round((time.time() - start_time))))"
   ]
  },
  {
   "cell_type": "code",
   "execution_count": 133,
   "id": "roman-silly",
   "metadata": {
    "scrolled": true
   },
   "outputs": [
    {
     "name": "stdout",
     "output_type": "stream",
     "text": [
      "--- 4732 ms ---\n"
     ]
    }
   ],
   "source": [
    "# Сортировка вставкой.\n",
    "def insertion_sort(a: list[int]) -> list[int]:\n",
    "    for i in range(1, len(a)):\n",
    "        temp = a[i]\n",
    "        j = i - 1\n",
    "        while (j >= 0 and temp < a[j]):\n",
    "            a[j + 1] = a[j]\n",
    "            j = j - 1\n",
    "        a[j + 1] = temp\n",
    "    return a\n",
    "a2 = mas.copy()\n",
    "start_time = time.time()\n",
    "#print(insertion_sort(a2))\n",
    "insertion_sort(a2)\n",
    "#TODO\n",
    "print(\"--- {0} ms ---\".format(round((time.time() - start_time)*1000)))"
   ]
  },
  {
   "cell_type": "code",
   "execution_count": 134,
   "id": "vital-implementation",
   "metadata": {},
   "outputs": [
    {
     "name": "stdout",
     "output_type": "stream",
     "text": [
      "--- 11 ms ---\n"
     ]
    }
   ],
   "source": [
    "# Сортировка обменом. || Сортировка пузырьком.\n",
    "def pusir_sort(a: list[int]) -> list[int]:\n",
    "    for i in range(len(a)-1):\n",
    "        for j in range(len(a)-i-1):\n",
    "            if a[j] > a[j+1]:\n",
    "                a[j], a[j+1] = a[j+1], a[j]\n",
    "    return(a)\n",
    "a3 = mas.copy()\n",
    "start_time = time.time()\n",
    "#print(pusir_sort(a3))\n",
    "pusir_sort(a3)\n",
    "#TODO\n",
    "print(\"--- {0} ms ---\".format(round((time.time() - start_time))))"
   ]
  },
  {
   "cell_type": "code",
   "execution_count": 138,
   "id": "veterinary-glory",
   "metadata": {},
   "outputs": [
    {
     "name": "stdout",
     "output_type": "stream",
     "text": [
      "--- 0 ms ---\n"
     ]
    }
   ],
   "source": [
    "# Сортировка Шелла.\n",
    "def shell_sort(a: list[int]) -> list[int]:\n",
    "    pred = len(a) - 1\n",
    "    step = len(a) // 2\n",
    "    while step > 0:\n",
    "        for i in range(step, pred + 1, 1):\n",
    "            j = i\n",
    "            rast = j - step\n",
    "            while rast >= 0 and a[rast] > a[j]:\n",
    "                a[rast], a[j] = a[rast], a[j]\n",
    "                j = rast\n",
    "                rast = j - step\n",
    "        step //= 2\n",
    "    return a\n",
    "a4 = mas.copy()\n",
    "start_time = time.time()\n",
    "#print(shell_sort(a4))\n",
    "shell_sort(a4)\n",
    "#TODO\n",
    "print(\"--- {0} ms ---\".format(round((time.time() - start_time))))"
   ]
  },
  {
   "cell_type": "code",
   "execution_count": 143,
   "id": "correct-chaos",
   "metadata": {},
   "outputs": [
    {
     "name": "stdout",
     "output_type": "stream",
     "text": [
      "[[3], [4], [5], [5], [6], [6], [6], [6], [8], [9]]\n",
      "--- 0 ms ---\n"
     ]
    }
   ],
   "source": [
    "# Быстрая сортировка.\n",
    "def fast_sort(a: list[int]) -> list[int]:\n",
    "    if len(a) <= 1:\n",
    "        return a\n",
    "    else:\n",
    "        x = a[len(a) >> 1]\n",
    "        mini = []\n",
    "        equal = []\n",
    "        maxi = []\n",
    "        for i in a:\n",
    "            if i < x: \n",
    "                mini.append(i)\n",
    "            elif i > x: \n",
    "                maxi.append(i)\n",
    "            else: \n",
    "                equal.append(i)\n",
    "        return fast_sort(mini) + equal + fast_sort(maxi)\n",
    "a5 = mas.copy()\n",
    "start_time = time.time()\n",
    "#print(fast_sort(a5))\n",
    "fast_sort(a5)\n",
    "print(\"--- {0} ms ---\".format(round((time.time() - start_time))))"
   ]
  },
  {
   "cell_type": "code",
   "execution_count": 137,
   "id": "french-czech",
   "metadata": {},
   "outputs": [
    {
     "name": "stdout",
     "output_type": "stream",
     "text": [
      "--- 0 ms ---\n",
      "--- 0 ms ---\n"
     ]
    }
   ],
   "source": [
    "# Турнирная сортировка.\n",
    "class PriorityHeap:\n",
    "    def __init__(self) -> None:\n",
    "        self.cache:list[init] = []\n",
    "        self.size:int = 0\n",
    "        self.max_size = 32\n",
    "    def pop_max(self) -> any: #Удаление элементов - удаляем самый первый элемент \n",
    "        res = self.cache[0] #Самый маленьий первый элемент\n",
    "        self.size -= 1\n",
    "        self. cache[0] = self.cache[self. size] #В первый элемент записываем последний\n",
    "        self. cache.pop(self.size)#Удаляем последний элемент\n",
    "        self.iter_heapify(0)\n",
    "        return res\n",
    "    def max_heap_insert(self, key: int):\n",
    "        self.cache. append(-10000000000000) #добавляем такое отриц. число, т.к в питоне нет максимального целого отриц. числа\n",
    "        self.insert_key(key, self. size) #Тут в конец добавляем очень маленькое число и потом пытаемся на его место вставить наше новое значение\n",
    "        self.size += 1\n",
    "    def insert_key(self, value: int, i: int):\n",
    "        self.cache [i] = value\n",
    "        parent = self.parent(i)  #у нас есть i элемент, его родитель будет i/2-1\n",
    "        while i > 0 and self.cache[parent] > self.cache[i]: #невозрастающее дерево, поэтому элементы уровня выше \n",
    "            # должны быть меньше, потому что на верхушке самое минимальное\n",
    "            self.cache[parent], self. cache[i] = self.cache[i], self.cache[parent]\n",
    "            i = parent\n",
    "            parent = self.parent(i)\n",
    "    def parent(self, i: int) -> int:\n",
    "        res = (i >> 1) - 1\n",
    "        if res < 0:\n",
    "            return 0\n",
    "        else:\n",
    "            return res\n",
    "    def iter_heapify(self, i: int) -> None: #Восстанавливает наше неубывающее дерево для восстановления порядка после того, как последний элемент закинули на первое место\n",
    "        while True:\n",
    "            l:int = (i << 1)+1 #Сдвиги - i/2\n",
    "            r:int = (i << 1)+2\n",
    "            largest:int = i\n",
    "            if l < self.size and self.cache[l] < self.cache[largest]:\n",
    "                largest = l\n",
    "            if r < self.size and self. cache[r] < self.cache[largest]:\n",
    "                largest = r\n",
    "            if largest == i:\n",
    "                break\n",
    "            else:\n",
    "                self.cache[i], self.cache[largest] = self.cache[largest], self.cache[i] \n",
    "                i = largest\n",
    "def turnir_sort(a:list[int])->list[int]:\n",
    "    a_len: int = len(a)\n",
    "    heap = PriorityHeap()\n",
    "    winners: list [int] = []\n",
    "    losers: list[int] = []\n",
    "    while heap.size < heap. max_size and heap.size < a_len: #пока пирамидка не заполнится и есть элементы в списке\n",
    "        elem = a[heap.size]\n",
    "        if winners and winners[-1] > elem:\n",
    "            losers. append(elem)\n",
    "        else:\n",
    "            heap.max_heap_insert(a[heap.size])\n",
    "    \n",
    "    for i in range(heap.size, a_len):\n",
    "        elem: int = a[i]\n",
    "        if winners and winners[-1] > elem:\n",
    "            losers. append(elem)\n",
    "        else:\n",
    "            max_elem : int = heap.pop_max()\n",
    "            if not winners:\n",
    "                winners.append(max_elem)\n",
    "            elif winners[-1] <= max_elem:\n",
    "                winners.append(max_elem)\n",
    "            else:\n",
    "                losers. append(max_elem)\n",
    "                \n",
    "            heap. max_heap_insert(elem)\n",
    "    while heap.size > 0: #очищение пирамидки в победителей и лузеров\n",
    "        max_elem: int = heap.pop_max()\n",
    "        if not winners:\n",
    "            winners.append(max_elem)\n",
    "        elif winners[-1] <= max_elem:\n",
    "            winners.append(max_elem)\n",
    "        else:\n",
    "            losers. append(max_elem)\n",
    "    if not losers:\n",
    "        return winners\n",
    "    else:\n",
    "        winners2: list[int] = turnir_sort(losers)\n",
    "        i: int = 0\n",
    "        j: int = 0 \n",
    "        winners1_len:int = len(winners)\n",
    "        winners2_len: int = len(winners2)  \n",
    "        winners_res: list[int] = [] \n",
    "        while i < winners1_len and j < winners2_len:\n",
    "            if winners[i] < winners2[j]:\n",
    "                winners_res.append(winners[i])\n",
    "                i += 1\n",
    "            else:\n",
    "                winners_res.append(winners2[j])\n",
    "                j += 1\n",
    "        while i < winners1_len:\n",
    "            winners_res.append(winners[i])\n",
    "            i += 1\n",
    "        while j < winners2_len:\n",
    "            winners_res.append(winners2[j])\n",
    "            j += 1\n",
    "        return winners_res                                             \n",
    "\n",
    "        \n",
    "\n",
    "        \n",
    "heap = PriorityHeap()        \n",
    "a6 = mas.copy()        \n",
    "start_time = time.time()\n",
    "#TODO\n",
    "#print(turnir_sort(a6)) \n",
    "turnir_sort(a6)\n",
    "print(\"--- {0} ms ---\".format(round((time.time() - start_time))))\n",
    "a7 = mas.copy()        \n",
    "start_time = time.time()\n",
    "#TODO\n",
    "a7.sort()\n",
    "#print(a7)                                             \n",
    "print(\"--- {0} ms ---\".format(round((time.time() - start_time))))"
   ]
  },
  {
   "cell_type": "markdown",
   "id": "rental-jerusalem",
   "metadata": {},
   "source": [
    "### Вывод\n"
   ]
  },
  {
   "cell_type": "raw",
   "id": "7255aa74",
   "metadata": {},
   "source": [
    "# В итоге, самые быстрые сортировки при проверке на больших числах это турнирная сортировка и сортировка Шелла, у них данные были 0 ms при вводе матрицы 1x15000. Самая медленная оказалась сортировка вставкой(4732 ms). Также сортировка пузырьком выдавала данные 11 ms, а сортировка выбором 6 ms. А внутренняя сортировка выдавала данные, как и у лучших сортировок: 0 ms."
   ]
  }
 ],
 "metadata": {
  "kernelspec": {
   "display_name": "Python 3 (ipykernel)",
   "language": "python",
   "name": "python3"
  },
  "language_info": {
   "codemirror_mode": {
    "name": "ipython",
    "version": 3
   },
   "file_extension": ".py",
   "mimetype": "text/x-python",
   "name": "python",
   "nbconvert_exporter": "python",
   "pygments_lexer": "ipython3",
   "version": "3.10.2"
  }
 },
 "nbformat": 4,
 "nbformat_minor": 5
}
