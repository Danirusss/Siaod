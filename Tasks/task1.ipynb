{
 "cells": [
  {
   "cell_type": "markdown",
   "id": "244314fb",
   "metadata": {},
   "source": [
    "# Задание 1"
   ]
  },
  {
   "cell_type": "markdown",
   "id": "64630386",
   "metadata": {},
   "source": [
    "Даны две строки: `s1` и `s2` с одинаковым размером.\n",
    "\n",
    "Проверьте, может ли некоторая перестановка строки `s1` “победить” некоторую перестановку строки `s2` или наоборот.\n",
    "\n",
    "Строка x может “победить” строку y (обе имеют размер n), если `x[i] >= y[i]` (в алфавитном порядке) для всех i от 0 до n-1.\n"
   ]
  },
  {
   "cell_type": "markdown",
   "id": "cf51dab2",
   "metadata": {},
   "source": [
    "## Ввод"
   ]
  },
  {
   "cell_type": "markdown",
   "id": "d697a747",
   "metadata": {},
   "source": [
    "`abc`\n",
    "`xya`"
   ]
  },
  {
   "cell_type": "markdown",
   "id": "50b10a2e",
   "metadata": {},
   "source": [
    "## Вывод"
   ]
  },
  {
   "cell_type": "markdown",
   "id": "55442a49",
   "metadata": {},
   "source": [
    "`True`\n",
    "\n",
    "### Исполняемый код записать в ячейку ниже:"
   ]
  },
  {
   "cell_type": "code",
   "execution_count": 77,
   "id": "3b0d440a",
   "metadata": {},
   "outputs": [
    {
     "name": "stdout",
     "output_type": "stream",
     "text": [
      "abc\n",
      "xya\n",
      "True\n"
     ]
    }
   ],
   "source": [
    "def pusir_sort(a: list[str]) -> list[int]:\n",
    "    for i in range(len(a)-1):\n",
    "        for j in range(len(a)-i-1):\n",
    "            if a[j] > a[j+1]:\n",
    "                a[j], a[j+1] = a[j+1], a[j]\n",
    "    return(a)\n",
    "def prov(a: list[str], b: list[str]) -> bool:\n",
    "    n = 1\n",
    "    if a[0] == b[0]:\n",
    "        f = True\n",
    "    else:\n",
    "        f = False\n",
    "    if a[0] > b[0]:\n",
    "        f1 = True\n",
    "    else:\n",
    "        f1 = False\n",
    "    while n < len(String):\n",
    "        for i in range(len(String)):\n",
    "            if a[i] != b[i]:\n",
    "                if a[i] > b[i]:\n",
    "                    if f or f1:\n",
    "                        f = False\n",
    "                        f1 = True\n",
    "                    else:\n",
    "                        return False\n",
    "                else:\n",
    "                    if f or (not f1):\n",
    "                        f = False\n",
    "                        f1 = False\n",
    "                    else:\n",
    "                        return False\n",
    "        n = n + 1\n",
    "    return True\n",
    "a = input()\n",
    "b = input()\n",
    "String = list(a)\n",
    "String1 = list(b)\n",
    "print(prov(pusir_sort(String), pusir_sort(String1)))"
   ]
  },
  {
   "cell_type": "markdown",
   "id": "b3a969a6",
   "metadata": {},
   "source": [
    "# Задание 2"
   ]
  },
  {
   "cell_type": "markdown",
   "id": "9c1ce05d",
   "metadata": {},
   "source": [
    "Дана строка `s`, вернуть самую длинную полиндромную подстроку в `s`."
   ]
  },
  {
   "cell_type": "markdown",
   "id": "20415c0e",
   "metadata": {},
   "source": [
    "## Ввод"
   ]
  },
  {
   "cell_type": "markdown",
   "id": "e77fcb44",
   "metadata": {},
   "source": [
    "`babad`"
   ]
  },
  {
   "cell_type": "markdown",
   "id": "49996449",
   "metadata": {},
   "source": [
    "## Вывод"
   ]
  },
  {
   "cell_type": "markdown",
   "id": "75be2464",
   "metadata": {},
   "source": [
    "`aba` или `bab`"
   ]
  },
  {
   "cell_type": "markdown",
   "id": "12ef9771",
   "metadata": {},
   "source": [
    "## Исполняемый код записывать в ячейку ниже"
   ]
  },
  {
   "cell_type": "code",
   "execution_count": 91,
   "id": "3f06c4fc",
   "metadata": {},
   "outputs": [
    {
     "name": "stdout",
     "output_type": "stream",
     "text": [
      "abab\n",
      "aba\n"
     ]
    }
   ],
   "source": [
    "def polidrome(s)->str:\n",
    "        Max = \"\"\n",
    "        for i, _ in enumerate(s):\n",
    "            Max1 = poisk(i, i, s)\n",
    "            if len(Max1) > len(Max):\n",
    "                Max = Max1\n",
    "        return Max\n",
    "def poisk(i, j, s):\n",
    "        while i + 1 < len(s) and s[j+1] == s[i]:\n",
    "            j += 1\n",
    "        while i > 0 and j + 1 < len(s) and s[i - 1] == s[j + 1]:\n",
    "            i = i - 1\n",
    "            j = j + 1\n",
    "        return s[i:j + 1]\n",
    "a = input()\n",
    "print(polidrome(a))\n",
    "\n"
   ]
  },
  {
   "cell_type": "markdown",
   "id": "5f54b630",
   "metadata": {},
   "source": [
    "# Задание 3"
   ]
  },
  {
   "cell_type": "markdown",
   "id": "566f1d3b",
   "metadata": {},
   "source": [
    "Вернуть количество отдельных непустых подстрок текста, которые могут быть записаны как конкатенация некоторой строки с самой собой (т.е. она может быть записана, как `a + a`, где `a` - некоторая строка)."
   ]
  },
  {
   "cell_type": "markdown",
   "id": "0f734fd8",
   "metadata": {},
   "source": [
    "## Ввод"
   ]
  },
  {
   "cell_type": "markdown",
   "id": "e0be5554",
   "metadata": {},
   "source": [
    "`aabb`"
   ]
  },
  {
   "cell_type": "markdown",
   "id": "ab8eda0b",
   "metadata": {},
   "source": [
    "## Вывод"
   ]
  },
  {
   "cell_type": "markdown",
   "id": "1d716d36",
   "metadata": {},
   "source": [
    "2"
   ]
  },
  {
   "cell_type": "markdown",
   "id": "fcd91349",
   "metadata": {},
   "source": [
    "## Исполняемый код записывать в ячейку ниже"
   ]
  },
  {
   "cell_type": "code",
   "execution_count": 98,
   "id": "be07379d",
   "metadata": {
    "scrolled": true
   },
   "outputs": [
    {
     "name": "stdout",
     "output_type": "stream",
     "text": [
      "aabb\n",
      "2\n"
     ]
    }
   ],
   "source": [
    "def kontatenacia(s)-> int:\n",
    "    podstr = []\n",
    "    n = 0\n",
    "    for i in range(0,len(s)+1):\n",
    "        for j in range(i+1,len(s)+1):\n",
    "            pod=s[i:j]\n",
    "            podstr.append(pod)\n",
    "    for i in podstr:\n",
    "        l = len(i)+1\n",
    "        if i[l//2:] == i[0:l//2]:\n",
    "            n = n + 1\n",
    "    return n\n",
    "s = input()\n",
    "print(kontatenacia(s))"
   ]
  }
 ],
 "metadata": {
  "kernelspec": {
   "display_name": "Python 3 (ipykernel)",
   "language": "python",
   "name": "python3"
  },
  "language_info": {
   "codemirror_mode": {
    "name": "ipython",
    "version": 3
   },
   "file_extension": ".py",
   "mimetype": "text/x-python",
   "name": "python",
   "nbconvert_exporter": "python",
   "pygments_lexer": "ipython3",
   "version": "3.10.2"
  }
 },
 "nbformat": 4,
 "nbformat_minor": 5
}
