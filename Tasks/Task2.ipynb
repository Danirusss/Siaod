{
 "cells": [
  {
   "cell_type": "markdown",
   "id": "arctic-stocks",
   "metadata": {},
   "source": [
    "### Задание №1\n",
    "Массив A состоит из целых положительных чисел длин отрезков. Составьте из трех отрезков такой треугольник, чтобы его периметр был максимально возможным. Если невозможно составить треугольник с положительной площадью функция возвращает 0."
   ]
  },
  {
   "cell_type": "code",
   "execution_count": 11,
   "id": "caring-truck",
   "metadata": {
    "scrolled": false
   },
   "outputs": [
    {
     "name": "stdout",
     "output_type": "stream",
     "text": [
      "21\n"
     ]
    }
   ],
   "source": [
    "def pusir_sort(a: list[int]) -> list[int]:\n",
    "    for i in range(len(a)-1):\n",
    "        for j in range(len(a)-i-1):\n",
    "            if a[j] < a[j+1]:\n",
    "                a[j], a[j+1] = a[j+1], a[j]\n",
    "    return(a)\n",
    "def Triangle(a: list[int]) -> int:\n",
    "    pusir_sort(a)\n",
    "    n = len(a)\n",
    "    maxi = 0\n",
    "    for i in range(0, n - 2):\n",
    "        if a[i] < (a[i + 1] + a[i + 2]):\n",
    "            maxi = max(maxi, a[i] + a[i + 1] + a[i + 2])\n",
    "            break\n",
    "    if(maxi == 0):\n",
    "        return 0\n",
    "    else:\n",
    "\n",
    "        return maxi\n",
    "a = [5, 6, 3, 10, 1, 2]\n",
    "print(Triangle(a))"
   ]
  },
  {
   "cell_type": "markdown",
   "id": "maritime-conversation",
   "metadata": {},
   "source": [
    "### Задание №2\n",
    "Дан массив неотрицательных целых чисел nums. Расположите их в таком порядке, чтобы вместе они образовали максимально возможное число. Замечание: Результат может быть очень большим числом, поэтому представьте его как string, а не integer."
   ]
  },
  {
   "cell_type": "code",
   "execution_count": 15,
   "id": "alert-charm",
   "metadata": {
    "scrolled": false
   },
   "outputs": [
    {
     "data": {
      "text/plain": [
       "'9543210'"
      ]
     },
     "execution_count": 15,
     "metadata": {},
     "output_type": "execute_result"
    }
   ],
   "source": [
    "def pusir_sort(a: list[int]) -> list[int]:\n",
    "    for i in range(len(a)-1):\n",
    "        for j in range(len(a)-i-1):\n",
    "            if a[j] < a[j+1]:\n",
    "                a[j], a[j+1] = a[j+1], a[j]\n",
    "    return(a)\n",
    "def maximum(a: list[int]) -> str:\n",
    "    s = ''\n",
    "    a = pusir_sort(a)\n",
    "    for i in range(len(a)):\n",
    "        s = s + str(a[i])\n",
    "    return(s)\n",
    "nums = [3, 5, 4, 1, 2, 9, 0]\n",
    "maximum(nums)"
   ]
  },
  {
   "cell_type": "markdown",
   "id": "catholic-roots",
   "metadata": {},
   "source": [
    "### Задание №3\n",
    "Дана матрица mat размером m * n, значения целочисленные. Напишите функцию, сортирующую каждую диагональ матрицы по возрастанию и возвращающую получившуюся матрицу."
   ]
  },
  {
   "cell_type": "code",
   "execution_count": 28,
   "id": "cleared-anniversary",
   "metadata": {
    "scrolled": false
   },
   "outputs": [
    {
     "name": "stdout",
     "output_type": "stream",
     "text": [
      "3\n",
      "3\n",
      "0\n",
      "10\n",
      "[10, 1, 6]\n",
      "[4, 3, 8]\n",
      "[8, 2, 10]\n",
      "[3, 1, 6]\n",
      "[2, 10, 8]\n",
      "[8, 4, 10]\n"
     ]
    }
   ],
   "source": [
    "# Сортировка диагоналей параллельных главной\n",
    "def f(m = 50, n = 50, min_limit = -250, max_limit = 1026):\n",
    "    from random import randint\n",
    "    a = [[randint(min_limit, max_limit) for j in range(m)] for i in range(n)]\n",
    "    return a\n",
    "def diagonals(a:list[int])->list[int]:\n",
    "    diag_to_sort = []\n",
    "    m = len(a)\n",
    "    n = len(a[0])\n",
    "    for i in range(-(m - 1), n):\n",
    "        for j in range(m):\n",
    "            if 0 <= j < m and 0 <= j + i < n:\n",
    "                diag_to_sort.append(a[j][j + i])\n",
    "        diag_to_sort = sorted(diag_to_sort)\n",
    "        diag_ind = 0\n",
    "        for j in range(m):\n",
    "            if 0 <= j < m and 0 <= j + i < n and diag_ind < len(diag_to_sort):\n",
    "                a[j][j + i] = diag_to_sort[diag_ind]\n",
    "                diag_ind += 1\n",
    "        diag_to_sort = []\n",
    "    return a\n",
    "user_m = input()\n",
    "user_n = input()\n",
    "user_min_limit = input()\n",
    "user_max_limit = input()\n",
    "mas = f(int(user_m), int(user_n), int(user_min_limit), int(user_max_limit))\n",
    "for i in range(len(mas)):\n",
    "    print(mas[i])\n",
    "mas = diagonals(mas)\n",
    "for i in range(len(mas)):\n",
    "    print(mas[i])"
   ]
  },
  {
   "cell_type": "code",
   "execution_count": null,
   "id": "ec498c13",
   "metadata": {},
   "outputs": [],
   "source": []
  }
 ],
 "metadata": {
  "kernelspec": {
   "display_name": "Python 3 (ipykernel)",
   "language": "python",
   "name": "python3"
  },
  "language_info": {
   "codemirror_mode": {
    "name": "ipython",
    "version": 3
   },
   "file_extension": ".py",
   "mimetype": "text/x-python",
   "name": "python",
   "nbconvert_exporter": "python",
   "pygments_lexer": "ipython3",
   "version": "3.10.2"
  }
 },
 "nbformat": 4,
 "nbformat_minor": 5
}
