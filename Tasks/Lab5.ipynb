{
 "cells": [
  {
   "cell_type": "markdown",
   "metadata": {
    "id": "WPvB9TcMmKA6"
   },
   "source": [
    "# Лабораторная работа №5\n",
    "# Рекурсия. Фракталы."
   ]
  },
  {
   "cell_type": "markdown",
   "metadata": {
    "id": "96Gi_LEvmSVH"
   },
   "source": [
    "## Выполнил студент группы Шатковский Даниил Александрович БФИ2001\n",
    "***"
   ]
  },
  {
   "cell_type": "markdown",
   "metadata": {
    "id": "4clYOyb0mbEv"
   },
   "source": [
    "### Задание:\n",
    "Реализовать генерацию заданного типа фрактала с применением рекурсивных функций.\n",
    "\n",
    "\n",
    "Добавить возможность задания глубины фрактала. \n",
    "\n",
    "\n",
    "Оценить глубину рекурсии. \n",
    "\n",
    "\n",
    "Построить таблицу зависимости времени построения от глубины фрактала."
   ]
  },
  {
   "cell_type": "markdown",
   "metadata": {
    "id": "wDXHbUmMmhRL"
   },
   "source": [
    "### Список фракталов:\n",
    "\n",
    "Кривая Коха\n",
    "| Кривая Гильберта\n",
    "| Кривая Серпинского\n",
    "| Салфетка Серпинского\n",
    "| Ковер Серпинского\n",
    "| Дерево Пифагора "
   ]
  },
  {
   "cell_type": "markdown",
   "metadata": {
    "id": "Wggfn8l7nG72"
   },
   "source": [
    "### Выполнение:"
   ]
  },
  {
   "cell_type": "markdown",
   "metadata": {},
   "source": [
    "### Кривая Коха"
   ]
  },
  {
   "cell_type": "code",
   "execution_count": 70,
   "metadata": {
    "id": "681a95mZnOSa"
   },
   "outputs": [
    {
     "name": "stdout",
     "output_type": "stream",
     "text": [
      "3\n"
     ]
    }
   ],
   "source": [
    "#Кривая Коха\n",
    "import turtle\n",
    "def kriv_koch(size, n):\n",
    "    if n == 0:\n",
    "        turtle.forward(size)\n",
    "        return \n",
    "    else:\n",
    "        kriv_koch(size / 3, n - 1)\n",
    "        turtle.left(60)\n",
    "        kriv_koch(size / 3, n - 1)\n",
    "        turtle.right(120)\n",
    "        kriv_koch(size / 3, n - 1)\n",
    "        turtle.left(60)\n",
    "        kriv_koch(size / 3, n - 1)\n",
    "    \n",
    "lvl = int(input())\n",
    "size = 200\n",
    "turtle.speed('fastest')\n",
    "kriv_koch(size, lvl)\n",
    "turtle.done()"
   ]
  },
  {
   "cell_type": "markdown",
   "metadata": {},
   "source": [
    "### Кривая Гильберта"
   ]
  },
  {
   "cell_type": "code",
   "execution_count": 72,
   "metadata": {},
   "outputs": [
    {
     "name": "stdout",
     "output_type": "stream",
     "text": [
      "3\n"
     ]
    }
   ],
   "source": [
    "# Кривая Гильберта\n",
    "import turtle\n",
    "def curve_hilbert(lvl, n, s):\n",
    "    if (lvl == 0):\n",
    "        turtle.forward(s)\n",
    "        return \n",
    "\n",
    "    turtle.right(n)\n",
    "    curve_hilbert(lvl - 1, -n, s)\n",
    "    \n",
    "    turtle.forward(s)\n",
    "    turtle.left(n)\n",
    "    curve_hilbert(lvl - 1, n, s)\n",
    "\n",
    "    turtle.forward(s)\n",
    "    curve_hilbert(lvl - 1, n, s)\n",
    "\n",
    "    turtle.left(n)\n",
    "    turtle.forward(s)\n",
    "    curve_hilbert(lvl - 1, -n, s)\n",
    "    turtle.right(n)\n",
    "\n",
    "level = int(input())\n",
    "size = 100\n",
    "turtle.speed('fastest')\n",
    "curve_hilbert(level, 90, size / (2**(level-1)))\n",
    "turtle.done()"
   ]
  },
  {
   "cell_type": "markdown",
   "metadata": {
    "id": "diOb-K7LnO5a"
   },
   "source": [
    "### Кривая Серпинского"
   ]
  },
  {
   "cell_type": "code",
   "execution_count": 57,
   "metadata": {},
   "outputs": [
    {
     "name": "stdout",
     "output_type": "stream",
     "text": [
      "3\n"
     ]
    }
   ],
   "source": [
    "# Кривая Серпинского\n",
    "import turtle\n",
    "from math import sqrt\n",
    "\n",
    "def half_curve_Serpin(n, s, lvl):\n",
    "    if (lvl == 0):\n",
    "        turtle.forward(s)\n",
    "        return \n",
    "    half_curve_Serpin(n, s, lvl - 1)\n",
    "    turtle.left(n/2)\n",
    "    turtle.forward(s*sqrt(2))\n",
    "    \n",
    "    turtle.left(n/2)\n",
    "    half_curve_Serpin(n, s, lvl - 1)\n",
    "    \n",
    "    turtle.right(n)\n",
    "    turtle.forward(s)\n",
    "    turtle.right(n)\n",
    "    half_curve_Serpin(n, s, lvl - 1)\n",
    "    \n",
    "    turtle.left(n/2)\n",
    "    turtle.forward(s*sqrt(2))\n",
    "    turtle.left(n/2)\n",
    "    half_curve_Serpin(n, s, lvl - 1)\n",
    "    \n",
    "def curve_Serpin(n, s, lvl):\n",
    "    half_curve_Serpin(n, s, lvl)\n",
    "    turtle.right(n)\n",
    "    turtle.forward(s)\n",
    "    turtle.right(n)\n",
    "    \n",
    "    half_curve_Serpin(n, s, lvl)\n",
    "    turtle.right(n)\n",
    "    turtle.forward(s)\n",
    "    turtle.right(n)\n",
    "    \n",
    "level = int(input())\n",
    "size = 20\n",
    "turtle.speed('fastest')\n",
    "curve_Serpin(90, size, level)\n",
    "turtle.done()"
   ]
  },
  {
   "cell_type": "markdown",
   "metadata": {},
   "source": [
    "### Треугольник Серпинского"
   ]
  },
  {
   "cell_type": "code",
   "execution_count": 55,
   "metadata": {
    "scrolled": false
   },
   "outputs": [
    {
     "name": "stdout",
     "output_type": "stream",
     "text": [
      "3\n"
     ]
    }
   ],
   "source": [
    "# Треугольник Серпинского\n",
    "\n",
    "import turtle\n",
    "def triangle_Serpin(lvl, s):\n",
    "    if lvl == 0:\n",
    "        for _ in range(3):\n",
    "            t.forward(s)\n",
    "            t.left(120)\n",
    "        return\n",
    "\n",
    "    triangle_Serpin(lvl - 1, s)\n",
    "    t.forward(s * 2**(lvl-1))\n",
    "    \n",
    "    triangle_Serpin(lvl - 1, s)\n",
    "    t.left(120)\n",
    "    t.forward(s * 2**(lvl-1))\n",
    "    t.right(120)\n",
    "    \n",
    "    triangle_Serpin(lvl - 1, s)\n",
    "    t.right(120)\n",
    "    t.forward(s * 2**(lvl-1))\n",
    "    t.left(120)\n",
    "\n",
    "t = turtle.Turtle()\n",
    "t.speed('fastest')\n",
    "\n",
    "level = int(input())\n",
    "size = 200\n",
    "\n",
    "triangle_Serpin(level-1, size / 2**level)\n",
    "\n",
    "turtle.done()"
   ]
  },
  {
   "cell_type": "markdown",
   "metadata": {},
   "source": [
    "### Ковер Серпинского"
   ]
  },
  {
   "cell_type": "code",
   "execution_count": 34,
   "metadata": {},
   "outputs": [
    {
     "name": "stdout",
     "output_type": "stream",
     "text": [
      "2\n"
     ]
    }
   ],
   "source": [
    "# Ковер Серпинского\n",
    "import turtle\n",
    "\n",
    "def carpet_Serpin(lvl, s):\n",
    "    if lvl == 0:\n",
    "        t.begin_fill()\n",
    "        for _ in range(4):\n",
    "            t.forward(s)\n",
    "            t.left(90)\n",
    "    \n",
    "        t.end_fill()\n",
    "        \n",
    "        return\n",
    "    else:\n",
    "\n",
    "        for i in range(4):\n",
    "            carpet_Serpin(lvl - 1, s // 3)\n",
    "            t.forward(s / 3)\n",
    "\n",
    "            carpet_Serpin(lvl - 1, s // 3)\n",
    "            t.forward(s / 3)\n",
    "\n",
    "            t.forward(s / 3)\n",
    "            t.left(90)\n",
    "\n",
    "\n",
    "t = turtle.Turtle()\n",
    "t.speed('fastest')\n",
    "\n",
    "turtle.tracer(10)\n",
    "level = int(input())\n",
    "size = 200\n",
    "\n",
    "carpet_Serpin(level, size)\n",
    "\n",
    "turtle.done()"
   ]
  },
  {
   "cell_type": "markdown",
   "metadata": {},
   "source": [
    "### Дерево Пифагора"
   ]
  },
  {
   "cell_type": "code",
   "execution_count": 62,
   "metadata": {},
   "outputs": [
    {
     "name": "stdout",
     "output_type": "stream",
     "text": [
      "8\n"
     ]
    }
   ],
   "source": [
    "import turtle\n",
    "\n",
    "\n",
    "def treePythagoras(t1, lvl, s):\n",
    "    if (lvl == 0):\n",
    "        for _ in range(4):\n",
    "            t1.forward(s)\n",
    "            t1.right(90)\n",
    "        return\n",
    "\n",
    "    for _ in range(4):\n",
    "        t1.forward(s)\n",
    "        t1.right(90)\n",
    "\n",
    "    t1.forward(s)\n",
    "    t2 = t1.clone()\n",
    "    t1.left(45)\n",
    "    treePythagoras(t1, lvl - 1, (s * 2**(1/2)) / 2)\n",
    "\n",
    "    t2.right(45)\n",
    "    t2.forward((s * 2**(1/2)) / 2)\n",
    "    treePythagoras(t2, lvl - 1, (s * 2 ** (1 / 2)) / 2)\n",
    "\n",
    "\n",
    "t = turtle.Turtle()\n",
    "t.speed('fastest')\n",
    "t.hideturtle()\n",
    "\n",
    "level = int(input())\n",
    "step = 100\n",
    "\n",
    "# turtle.tracer(0, 0)\n",
    "t.left(90)\n",
    "treePythagoras(t, level, step)\n",
    "\n",
    "turtle.done()"
   ]
  },
  {
   "cell_type": "code",
   "execution_count": null,
   "metadata": {},
   "outputs": [],
   "source": []
  }
 ],
 "metadata": {
  "colab": {
   "collapsed_sections": [],
   "name": "Lab5.ipynb",
   "provenance": []
  },
  "kernelspec": {
   "display_name": "Python 3 (ipykernel)",
   "language": "python",
   "name": "python3"
  },
  "language_info": {
   "codemirror_mode": {
    "name": "ipython",
    "version": 3
   },
   "file_extension": ".py",
   "mimetype": "text/x-python",
   "name": "python",
   "nbconvert_exporter": "python",
   "pygments_lexer": "ipython3",
   "version": "3.10.2"
  }
 },
 "nbformat": 4,
 "nbformat_minor": 1
}
